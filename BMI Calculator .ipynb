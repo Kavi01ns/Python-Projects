{
 "cells": [
  {
   "cell_type": "markdown",
   "id": "ea31ccd1-ef66-4b39-b2d4-f3e8c4c77256",
   "metadata": {},
   "source": [
    " # BMI Calculator with Unit Conversion"
   ]
  },
  {
   "cell_type": "code",
   "execution_count": 9,
   "id": "d2c3ea43-5167-4863-bae0-4bd291da9a79",
   "metadata": {},
   "outputs": [
    {
     "name": "stdout",
     "output_type": "stream",
     "text": [
      "\n",
      "Welcome to the BMI Calculator!\n",
      "-----------------------------------\n",
      "\n",
      "Select unit for your height in different type units:\n",
      "------------------------------------------------------\n",
      "1. Meters\n",
      "2. Centimeters\n",
      "3. Feet\n",
      "4. Inches\n"
     ]
    },
    {
     "name": "stdin",
     "output_type": "stream",
     "text": [
      "Enter your choice:  2\n",
      "Enter your height:  172\n"
     ]
    },
    {
     "name": "stdout",
     "output_type": "stream",
     "text": [
      "\n",
      "Select unit for weight in different type units:\n",
      "------------------------------------------------\n",
      "1. Kilograms\n",
      "2. Pounds\n"
     ]
    },
    {
     "name": "stdin",
     "output_type": "stream",
     "text": [
      "Enter your choice:  1\n",
      "Enter your weight:  70\n"
     ]
    },
    {
     "name": "stdout",
     "output_type": "stream",
     "text": [
      "\n",
      "BMI Calculation:\n",
      "--------------------\n",
      "BMI = weight (kg) / height (m)^2\n",
      "    = 70.00 / (1.72)^2\n",
      "    = 23.66\n",
      "\n",
      "Health Status: Normal weight\n",
      "______________________________\n"
     ]
    },
    {
     "name": "stdin",
     "output_type": "stream",
     "text": [
      "\n",
      "Do you want to calculate another BMI? (yes/no):  no\n"
     ]
    },
    {
     "name": "stdout",
     "output_type": "stream",
     "text": [
      "Thank you for using the BMI Calculator!\n"
     ]
    }
   ],
   "source": [
    "def convert_height(height, unit):\n",
    "    \"\"\"Converts height from different units to meters.\"\"\"\n",
    "    if unit == 1:  # Meters\n",
    "        return height\n",
    "    elif unit == 2:  # Centimeters to meters\n",
    "        return height / 100\n",
    "    elif unit == 3:  # Feet to meters\n",
    "        return height * 0.3048\n",
    "    elif unit == 4:  # Inches to meters\n",
    "        return height * 0.0254\n",
    "    else:\n",
    "        return None\n",
    "\n",
    "def convert_weight(weight, unit):\n",
    "    \"\"\"Converts weight from pounds to kilograms if needed.\"\"\"\n",
    "    if unit == 1:  # Kilograms\n",
    "        return weight\n",
    "    elif unit == 2:  # Pounds to kilograms\n",
    "        return weight * 0.453592\n",
    "    else:\n",
    "        return None\n",
    "\n",
    "def calculate_bmi(weight, height):\n",
    "    \"\"\"Calculates BMI using the formula: BMI = weight (kg) / height (m)^2\"\"\"\n",
    "    return weight / (height ** 2)\n",
    "\n",
    "def get_health_status(bmi):\n",
    "    \"\"\"Determines health status based on BMI value.\"\"\"\n",
    "    if bmi < 18.5:\n",
    "        return \"Underweight\"\n",
    "    elif 18.5 <= bmi < 24.9:\n",
    "        return \"Normal weight\"\n",
    "    elif 25 <= bmi < 29.9:\n",
    "        return \"Overweight\"\n",
    "    elif 30 <= bmi < 34.9:\n",
    "        return \"Obese\"\n",
    "    else:\n",
    "        return \"Severely Obese\"\n",
    "\n",
    "def main():\n",
    "    \"\"\"Main function to run the BMI calculator.\"\"\"\n",
    "    while True:\n",
    "        print(\"\\nWelcome to the BMI Calculator!\")\n",
    "        print(\"-\"*35)\n",
    "        \n",
    "        # Height input\n",
    "        print(\"\\nSelect unit for your height in different type units:\")\n",
    "        print(\"-\"*54)\n",
    "        print(\"1. Meters\")\n",
    "        print(\"2. Centimeters\")\n",
    "        print(\"3. Feet\")\n",
    "        print(\"4. Inches\")\n",
    "        \n",
    "        try:\n",
    "            height_unit = int(input(\"Enter your choice: \"))\n",
    "            if height_unit not in [1, 2, 3, 4]:\n",
    "                print(\"Invalid choice! Please select a valid option.\")\n",
    "                continue\n",
    "\n",
    "            height = float(input(\"Enter your height: \"))\n",
    "            if height <= 0:\n",
    "                print(\"Height must be a positive number.\")\n",
    "                continue\n",
    "\n",
    "        except ValueError:\n",
    "            print(\"Invalid input! Please enter numeric values.\")\n",
    "            continue\n",
    "\n",
    "        height_convert_to_Meters = convert_height(height, height_unit)\n",
    "        \n",
    "        # Weight input\n",
    "        print(\"\\nSelect unit for weight in different type units:\")\n",
    "        print(\"-\"*48)\n",
    "        print(\"1. Kilograms\")\n",
    "        print(\"2. Pounds\")\n",
    "\n",
    "        try:\n",
    "            weight_unit = int(input(\"Enter your choice: \"))\n",
    "            if weight_unit not in [1, 2]:\n",
    "                print(\"Invalid choice! Please select a valid option.\")\n",
    "                continue\n",
    "\n",
    "            weight = float(input(\"Enter your weight: \"))\n",
    "            if weight <= 0:\n",
    "                print(\"Weight must be a positive number.\")\n",
    "                continue\n",
    "\n",
    "        except ValueError:\n",
    "            print(\"Invalid input! Please enter numeric values.\")\n",
    "            continue\n",
    "\n",
    "        weight_convert_to_kg = convert_weight(weight, weight_unit)\n",
    "\n",
    "        # Calculate BMI using the correct formula\n",
    "        bmi = calculate_bmi(weight_convert_to_kg, height_convert_to_Meters)\n",
    "        health_status = get_health_status(bmi)\n",
    "\n",
    "        print(\"\\nBMI Calculation:\")\n",
    "        print(\"-\"*20)\n",
    "        print(f\"BMI = weight (kg) / height (m)^2\")\n",
    "        print(f\"    = {weight_convert_to_kg:.2f} / ({height_convert_to_Meters:.2f})^2\")\n",
    "        print(f\"    = {bmi:.2f}\")\n",
    "        print(f\"\\nHealth Status: {health_status}\")\n",
    "        print(\"_\"*30)\n",
    "\n",
    "        # Ask user if they want to calculate again\n",
    "        again = input(\"\\nDo you want to calculate another BMI? (yes/no): \").strip().lower()\n",
    "        if again != 'yes':\n",
    "            print(\"Thank you for using the BMI Calculator!\")\n",
    "            break\n",
    "\n",
    "if __name__ == \"__main__\":\n",
    "    main()"
   ]
  }
 ],
 "metadata": {
  "kernelspec": {
   "display_name": "Python 3 (ipykernel)",
   "language": "python",
   "name": "python3"
  },
  "language_info": {
   "codemirror_mode": {
    "name": "ipython",
    "version": 3
   },
   "file_extension": ".py",
   "mimetype": "text/x-python",
   "name": "python",
   "nbconvert_exporter": "python",
   "pygments_lexer": "ipython3",
   "version": "3.12.7"
  }
 },
 "nbformat": 4,
 "nbformat_minor": 5
}
